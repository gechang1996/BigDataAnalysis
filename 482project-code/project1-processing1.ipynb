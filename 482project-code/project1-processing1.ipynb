{
 "cells": [
  {
   "cell_type": "code",
   "execution_count": null,
   "metadata": {},
   "outputs": [],
   "source": [
    "import json\n",
    "import os\n",
    "import glob\n",
    "import numpy\n",
    "path=\"C:/Users/Chang Ge/Desktop/482project/stockdata/amazon/*\"\n",
    "files = glob.glob(path)\n",
    "\n",
    "result_names=[]\n",
    "for filename in files:\n",
    "    with open(filename) as f:\n",
    "    \n",
    "        tweets = f.readline()\n",
    "            \n",
    "        if (tweets=='\\n' or tweets==''):\n",
    "            continue\n",
    "        try:\n",
    "            data = json.loads(tweets)\n",
    "            date=list(data)[0]\n",
    "            \n",
    "            \n",
    "\n",
    "            new_filename=\"database/docs/marktwain/tweets_data/amazon_test/\"+str(date)+'.txt'\n",
    "            result_names.append(new_filename)\n",
    "            \n",
    "#             with open(new_filename, 'w') as fp:\n",
    "\n",
    "#                 json.dump(result_file_value, fp)\n",
    "\n",
    "        except ValueError as e:\n",
    "            print(\"error1\")\n",
    "            continue\n",
    "        except AttributeError:\n",
    "            print(\"error2\")\n",
    "            continue\n",
    "print(result_names)\n",
    "numpy.savetxt(\"amazon_dates.txt\", result_names, delimiter=\" \",fmt=\"%s\")"
   ]
  },
  {
   "cell_type": "code",
   "execution_count": null,
   "metadata": {},
   "outputs": [],
   "source": []
  }
 ],
 "metadata": {
  "kernelspec": {
   "display_name": "Python 3",
   "language": "python",
   "name": "python3"
  },
  "language_info": {
   "codemirror_mode": {
    "name": "ipython",
    "version": 3
   },
   "file_extension": ".py",
   "mimetype": "text/x-python",
   "name": "python",
   "nbconvert_exporter": "python",
   "pygments_lexer": "ipython3",
   "version": "3.7.1"
  }
 },
 "nbformat": 4,
 "nbformat_minor": 2
}
