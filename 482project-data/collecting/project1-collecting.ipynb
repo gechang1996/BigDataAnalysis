{
 "cells": [
  {
   "cell_type": "code",
   "execution_count": 18,
   "metadata": {},
   "outputs": [
    {
     "name": "stdout",
     "output_type": "stream",
     "text": [
      "Apr 27 2015\n",
      "['@wood_melt HELL on EARTH has been UnLeashed \\nDamned Rite: Melt\\nby Janine-Langley Wood\\nat Amazon/ Barnes&amp;Noble\\nGREAT http://t.co/FhCM0cUdcf', '@TMobile #musicfreedom Amazon music -my home room teacher', \"I'm at Amazon HQ Seattle in Seattle, WA https://t.co/JdkzP0GTso\", 'BUENOS DÍAS !!! @ Aceptamos CADIVI &amp; GIFT CARD AMAZON https://t.co/BJG0N7ElsI', 'If you ever want anything weed related for cheap fuck a smoke shop cop it from Amazon lol', '@camelfarmer how often do you update from wish lists on amazon, I added a new list on 4/14 and it still shows no new price watches created?', \"My #STAGES Deluxe Version has been shipped from Amazon! Waiting for Target Special edition, too, but will also buy one tomorrow. Can't wait!\", 'On Sale!! MUST Read!! Amazon US ► http://t.co/pcaIP2JicV\\nAmazon UK ► http://t.co/pK8Rq1iHbz\\n@kimblalockAngel http://t.co/PJEC7GTU5a', 'My Demons sale 0.99 pennies\\n\\nAmazon US ►\\nhttp://t.co/zWPl0xm4ks\\nAmazon UK ►\\nhttp://t.co/M77X1Ak9ew http://t.co/ORt7ZCSQmG', '@kayladnls My choice (because I have prime): Amazon Prime Music + my own music collection (I still buy music)', '@amazonflwrchild @thetiny_terror looks awesome.', '@BlueTinted_LB @Millhaven_Curse Netflix/Amazon here I come', '\"The sun will rise again each time the night before you let it set\"\\n@indtwt #Kindle #Amazon http://t.co/CddBTelwW6', \"@IamMiss_jones girl I'm at amazon. Bout to work for a month lmao\", '@Amazon @goodreads Review of Secrets of the Tower Historical fiction, lovers abound, Leaning Tower Pisa info  *****', \"@debbierix Review, thumb's up 4 SECRETS OF THE TOWER. If you love historical fiction, this one's for you! @amazon @goodreads\", \"@AmazonUK @parlophone @blurofficial @AmazonMusicUK It'll make our Tuesday!  And everyday thereafter! #northamericalovesblur\", '@amazonflwrchild @thetiny_terror good for you!', 'What if Everything Bad Happens?\\n#ebook #Amazon \\nhttp://t.co/93sgIcxilN', 'Discover how Amazon changed book cover design and why authors need to pay attention \\n#MondayBlogs\\nhttp://t.co/PLpp8ZTPWH\\n@lflwriter', '@EmShost @go_kohske @GANGSTA_Project @VIZMedia @AmazonUK enjoyed them all', \"@rain_games Couldn't wait for Teslagrad on PS4 in NA so I ordered from Amazon UK!  Really enjoying it. Is there going to be cross save?\", 'Cual eres tu @pedropalany?? @ Aceptamos CADIVI &amp; GIFT CARD AMAZON https://t.co/xqnrDA25BO', '@IAN_AuthorPromo At 91, a published author!  \"I\\'M NOT IN KANSAS ANY MORE, LOVE DOROTHY\" 5 stars on amazon! http://t.co/jjqfodoMU0', \"@ESSEXVARMINTING @ChristieC733 \\nI wouldn't want to be in a world without trees or animals. Cry for the Amazon rain forests!\", \"@newageamazon  STATUS: BOUGHT.  \\nI'll make a goddamn video to be Ashley's manager, because FUCK YEAH ASH.\", '@kmorg37 put it on Amazon! You gotta finesse brah', '@katekeyrn @amazon @Chegg THREE times the amount!', '#Indigenous chief straight from the Amazon @ the #PFII14, his interpreter was rushed to the booth and… https://t.co/piS1Vb2nej', '#spiritintheroom shot by @mancinettipics. hear us on #YouTube #spotify #iTunes #soundcloud #Amazon… https://t.co/QNfUGAFQhJ', \"Only you by the pretty reckless isnt on iTunes or google play or Amazon MP3 how am I supposed to support my artist if I can't buy their song\", '15 hours 2 years straight to catch these criminals! #TFB_Cats #pottiteam All over #etsy #ebay #amazon Every social media site on  earth!', '@Araksya @MariaSansone in there with you~feel as though in land of 😨😨Amazon people ~ 5\\'1\" 110 😱😃😐 have 🎼🎉great day!💋 http://t.co/zBaaRQPkMs', 'Same people look at what they do! #etsy #ebay #amazon #TFB_Cats #pottiteam You will never sell jewelry ever!', 'how the fuck do you call amazon? i calling is 18th century crap but the site won’t let me complain even though theres proof ON their site', 'Criminals took over the internet!  #etsy #ebay #amazon #TFB_Cats #pottiteam', '@FrysHelp well I already bought it on @amazon.  There were 6 models ALL out.....', 'A 5 star review on Amazon.ca http://t.co/NhJEpr2tz2', 'My #selfiestick just arrived from amazon first my right phone this time the #Sony corrosion z3 @… https://t.co/gbD6RIb0WF', \"Amazon's plea to feds: Let drones deliver - The Hill http://t.co/qlTS4bDPxF #Amazon • $AMZN http://t.co/jCrRIc6G4d\", 'SALE: Olive Oil Sprayer via @amazon #DealOfTheDay http://t.co/AfzrlNymlO', '@pedropalany jajajajjaja #lol @ Aceptamos CADIVI &amp; GIFT CARD AMAZON https://t.co/2dxkXe2MIs', 'BUENOS DÍAS @ Aceptamos CADIVI &amp; GIFT CARD AMAZON https://t.co/Hl2MnKNbJN', 'My mom on the phone w/ some foreign guy from Amazon right now 😂😂😂😂😭😭😭😭', '@Kels015 I ordered it off of amazon cause I found it on wanelo! It was $14', 'Hope your are getting wealth with us and #Amazon stock jump) \\nhttps://t.co/eGYMqoVZT8', \"@AshlynnCisco I'm looking on Amazon right now lol\", '5 reasons to add THE SKY PAINTER to your collections--today at Sharpread (TY @colbysharp!): http://t.co/N6FwxCRbA1 #PoetryMonth @AmazonPub', '@_The_Notorious_ 😕😕😕 order the actual album online like off of Amazon', \"Amazon just offered me a full time job and it's only been a week 💸💸💸👏🏾😎\", 'Impresionante trabajo de investigación de @ejBlasco sobre Venezuela que ya es Nº1 BestSeller en Amazon.Enhorabuena. http://t.co/KRdUEbSq2R', 'Impresionante trabajo de investigación de @ejBlasco sobre Venezuela que ya es Nº1 BestSeller en Amazon. Enhorabuena. http://t.co/2kamTrNEjL', '\"Not to be missed...beautiful writing with profound insight into #storytelling\" (Amazon) MYSTERIOUS PLACES: #memoir http://t.co/LPdhxPJFF8', '.@Lance_Sommer &amp; I share Amazon prime/HBO go and there is nothing more vulnerable than him seeing all the crap I buy. http://t.co/ZrHhpwLKRH', \"I'm tryna order this pole from Amazon for my room but I need measurements lol😩\", \"Yo @BonnieSCha Amazon's entertainment services aren't linked to their TV devices like Apple's are, they are available on Roku &amp; Google too.\", \"Yo @BonnieSCha Amazon's entertainment services aren't linked to their TV devices like Apple's are, they are available on Roku &amp; Google too.\", '@IamCieraNicole @OnceABC amazon has season 4 $1.99 per episode they come out the next day', \"Why are Amazon's Mother's Day gift ideas all thinly veiled insults? HEY MOM, YOUR SKIN IS DRY AND YOUR HOUSE IS FILTHY. GET IT TOGETHER.\", '@amazon @AmazonKindle Amazon was nice enough to replace my kids broken kindle. Never asked the broken one to be returned but now charged me?', 'Four days left for having your Free Pudding Topping at #KungFuTeaFL and Win #Applewatch #Minjambox #Amazongistcard! http://t.co/q1GBLsrk2s', 'Seductive in Stilettos 2: New Adult Romance http://t.co/eyD2I1waIA via @amazon http://t.co/F9mizqZxWD', 'any app that i can download to earn amazon gift cards????? i need some amazon gift cards :P', \"Does anyone familiar with Amazon's disclosure of AWS revenues last week know if they attributed revenue from Amazon as a customer?\", 'Paul Blart Mall Cop is $6.96 on Amazon. meaning one US dollar is equal to 6.96 Blarts, making the Blart the strongest currency right now', '@bob_obob #TueThriftFinds mat cleaned up in fine shape for $5. Well worth the usual $25+ such as @amazon - OLFA 5881', 'The ultimate tech tease. @amazon has been dangling the #amazonEcho just out of reach for months now! Stop changing shipping dates!', '@amazon low key has added #adfree  #PrimeRadio to @amazonmusic. Your move @TIDALHiFi', 'Burnt Alive in Gumption Junction Burnt Alive in Gumption Junction http://t.co/n6V72edzV2 via @amazon', '@emergingW Believe it or not with a trip to the Amazon #rainforest.  Talk about the wild side! http://t.co/MAovdDubNA', \"@MetsMerized @amazon thanks for the plug. Looking forward to getting Howie Rose's words out there. Revisit Shea, Bob Murphy &amp; Lindsey Nelson\", '@Glamazontyomi 3 books that changed your life?', 'Discover how Amazon changed book cover design\\nand why authors need to pay attention\\nhttp://t.co/PLpp8ZTPWH\\n@lflwriter', \"Amazon's rivals Microsoft &amp; Google Cloud wake up billion dollar potential of cloud computing http://t.co/KtwMc805xN\", '@lilferg__ cheaper on amazon', 'Dímelo luisfer_22 #lol #mujeresatrevidas @ Aceptamos CADIVI &amp; GIFT CARD AMAZON https://t.co/T45U5WrhnH', '@Glamazontyomi 🐞', '@Amazon3PSellers @AnkerOfficial #AmazonSweeps', '@floepup I have Amazon prime so I can get a constant stream of small presents', 'Written for You byJ.Cognard \"Keeps you laughing and guessing till the end\"\\n#suspense #KDPSelect #comedy http://t.co/Tz6TYkdpUU … via @amazon', \"We're the same country that makes Amazon &amp; Facebook. We need those types of people in government along w/ top economists - @USCTO #Matrix15\", 'My new book on Amazon; Download TODAY:  http://t.co/TQPr9xMAKz http://t.co/04AIueeq9g', '@seattlefoodtrk Happy Monday!  #BuddhaBruddah @amazoncorporate Westlake &amp; Harrison #asianmixedplate #chilibar http://t.co/O76RrKZN66', \"I'm so pleased that Amazon has let me keep James Sunderland as my name for so many years. http://t.co/GgOh5n4fq0\", 'The srat girl in front me of me has been on Amazon looking at Jesus sandals all lecture. Bruh.', '@AmazonHelp hello I need help', '@AmazonHelp hello', '@AmazonHelp please help', 'Interestingly, UPS just delivered my replacement doorbell from amazon - he pressed the broken doorbell and my iphone UPS delivery app chimed', 'Need a smile? Say “pickled guppies” 3x and check out Lia London Books on #Amazon http://t.co/xHbv0Fsudg #CR4U http://t.co/xqZ63DrIEp', 'At long last! Mary Queen of the Scots is live on Smashwords and publishing on Amazon today! https://t.co/nBSQfOfqrc', 'Get ready for Memorial Day (and the rest of the summer) get your copy of #rksworkout on Amazon over 50% off. http://t.co/JMZmTriK8S', '@amazon I spend thousands with you every year and am now looking for new sources for everything due continuing use of @OnTrac_Shipping.', '@amazon Literally *EVERY SINGLE SHIPMENT* you send via @OnTrac_Shipping I have to call and fight them to have delivered. Every single one!', '@amazon Are you really unable to enforce minimum customer service standards with them? You must send millions in fees their way.', '@amazon From my perspective you are equally culpable.', '@WAZROM #sky #us #magazine #car #international #memes #navigation #gps #wattpad #lectores #fandom #amazon #megustaleer #parís #libros', '@SonnyBunch I saw that on my Amazon homepage tomorrow.', \"#TheOceanOfHelenaLee A little over a week to release on Amazon. \\n\\nSo I'm impatient, kill me.\", 'Season One of the original “black hat, good guy cowboy”, Hopalong Cassidy, is now available for streaming on Amazon   http://t.co/IILy4XrHpU', 'What did you win today at #RIMS2015?  Visit EXIGIS at booth 1241 before 4:30pm to win a #AmazonFireTVStick. http://t.co/i9noZowAgJ', '@ndtv Great News Keep up the good work &amp; Delivery Commitments I am one satisfied customer of you  \"Amazon\" hardly any complaints on quality', \"My package is already in Chicago and they tell me I won't get it til June 8th???? Go home amazon ur drunk http://t.co/GTaXUvrRCK\", 'The lady next to me on the flight told me about her personal air purifier that she got on Amazon for $60 the whole way here 😑', '.@amazon wants to be your everything, including your travel agent.  http://t.co/veZesTPgb9 via @TravlandLeisure', 'For sale .@amazon: Used unlocked white #Nexus 5, 16gb. Works with T-Mobile, AT&amp;T, Sprint (no Verizon). $270 http://t.co/mSucda9QU8', '@amazon makes my life way too easy with #amazonprime. Love it!', 'You can now rent goats off amazon to do yard work #GOAT #TheFutureisNow', \"just found out 'Leap of Faith' and 'Harold &amp; Maude' coming to @AmazonVideo May 1st. Better go lay down for a bit! 😂 😃 😄\", 'Queens Reign copies arrived a week early!\\n#stoked #author #writing #new #published #amazon #kindle @… https://t.co/P0zhfycerm', 'This #MothersDay buy her gift on @amazon and @amazonsmile donates a %of your purchase to us! Bookmark this link http://t.co/y8yc2tlEsg', 'bout to go over to my sisters and hog up the Amazon stick', '@AmazonHelp Delivered. Thanks for your interest.', '@WAZROM #sustainable #earthpix #climatejustice #yasuni #keeptheoilintheground #indigenous #amazon #keepitintheground #amazonwatch #climate', 'Tweeps! Our friends, @TheGlamazons, have a big show coming up May 2nd at #TheWestEndLounge! Check out the info &amp; go!! http://t.co/eD8A7j1B5E', '@ZeylovesAmazons nothing just laying down', \"I christene thee, USS Enterprise! #startrek #amazon @ Scott's Computer Repair https://t.co/8CH6wwkeBf\", '@ZeylovesAmazons very lol wbu', '\"@MikeColosseum: @inthewrongbed I think you should should only have like 48 hours to get your package\" @amazon', 'Amazon better give my money back 😒', \"Sunset's only $25 at Best Buy and Amazon. Or, to put it in another term, Sunset's only 1/24th of an Apple Watch. http://t.co/zKYvVZwarq\", 'so I searched decorative body pillows on Amazon and ummm yeah... http://t.co/sGC1cTEnq4', \"if you're an amazon prime member, my book On the Road with #U2 in paperback is now $11!\\nhttp://t.co/KFtl1AZPcA\", \"if you're an amazon prime member, my #book On the Road with #U2 in paperback is now $11 was originally $13)\\nhttp://t.co/cfkvt9TFON\", '@BitchMedia @theferocity @TriciaLockwood. And me, yo. Am on amazon and etsy--open window, no stuffy thinking', 'Dear @amazon please stop using USPS for delivering packages in NYC.', 'a new way to reciev amazon notifications https://t.co/1eYSlamROq via @audioBoom', \"Microsoft gears up for cloud domination...they'll be battling Amazon AWS for dominance... \\nhttp://t.co/PRCL3ME8rX\", \"Microsoft gears up for cloud domination...they'll be battling Amazon AWS... \\nhttp://t.co/PRCL3ME8rX\", \"Amazon Prime: I'm a slave for you\", \"@seanhannity @peterschweizer @amazon My response to the GOP's treatment of Hillary My Republican Nightmare http://t.co/NWplpRnFie\", '@davedelong @coryb yes. But to be fair. Amazon spiked 20% a week ago for what I consider failure lol', '@SeanMaxwell Lovely review! Lovelywords! #Regency #Romance #lovestory #love #briliant #AmazonUSA #RWA #Asia #AmazonUK http://t.co/FWKlU0jqsm', '@JETAR9  #Lovely #review! Lovelywords! #Regency #Romance #lovestory #love #briliant #AmazonUSA #RWA #Asia #AmazonUK http://t.co/FWKlU0jqsm', '@MarilynMonroeDC  #Review! Lovelywords! #Regency #Romance #lovestory #love #briliant #AmazonUSA #RWA #Asia #AmazonUK http://t.co/FWKlU0jqsm', '@ceebee308  Lovely review! Lovelywords! #Regency #Romance #lovestory #love #briliant #AmazonUSA #RWA #Asia #AmazonUK http://t.co/FWKlU0jqsm', '@JermaineWatkins #Review! Lovelywords! #Regency #Romance #lovestory #love #briliant #AmazonUSA #RWA #Asia #AmazonUK http://t.co/FWKlU0jqsm', '@Tammysdragonfly  #Review! Lovelywords! #Regency #Romance #lovestory #love #briliant #AmazonUSA #RWA #Asia #AmazonUK http://t.co/FWKlU0jqsm', '@AgentBertram  New#review! Lovelywords! #Regency #Romance #lovestory #love #briliant #AmazonUSA #RWA #Asia #AmazonUK http://t.co/FWKlU0jqsm', 'Yo @amazon you lagging my order', '@justinbieber  Love#review! Lovelywords! #Regency #Romance #lovestory #love #briliant #AmazonUSA #RWA #Asia #AmazonUK http://t.co/FWKlU0jqsm', 'Getting ready to present my group project advertising strategy for #JOUR340 later today! Amazon Fresh -- Time is Ripe, #liveon', 'Core message is that #AmazonFresh can help save you time because our time is irreplaceable!', \"My Amazon wishlist used to be so diverse, but now it's mainly books about the Medieval Roman Empire\", 'Wait can you really rent a goat on Amazon???', 'Public Service Announcement: You can now rent goats on Amazon! 🐐', \"Next to a TV I bought my mom 5 yr.ago, this is the biggest box I've ever received from the Amazon. http://t.co/cBODzvaqKw\", \"All the bring it on's are on Amazon!!!!!\\nI can't stop jumping with excitement like omg\", 'Love early release streams #Amazon #firetv #avengers #ageofultron @ Curry Residence https://t.co/r3ECVct7Uk', '@nealcarter @Blackamazon for reference, this is the work of an artist in response to Walter Scott, prior to 4/14/15 http://t.co/A8OafMKDg8', '@lamazon_oficial @estoenlinea Covencido Don \"Lama\" va ser aburrida la pelea ¿por que ? no tiene argumentos Pacquiao para ganarle Mayweather', '@lamazon_oficial @estoenlinea Le llega ya viejo era antes y el filipino tendria que hacer una hazaña como la de Jose Luis Ramirez solo asi', '@AmazonEve Inspired by your last tweet ❤️ http://t.co/qvyjCf1ybE', 'So this showed up on Amazon today. #fea\\nhttp://t.co/jXDTpPbUvl', 'Amazon has princess rings', '@Arngrim Saw a reader tweeted u about my novel #dooroftheheart.Pls read Amazon reviews &amp; spread the word.Opens hearts http://t.co/JTdfrROoQf', 'People are buying me stuff on my amazon wishlist. thanks babies.', '@vnus70 Pls remember to write an Amazon and goodreads review this weekend. They really make a difference. Thanks!!', '@eazyrooster @peggyrossmanith SELL YOUR BOOKS ON AMAZON PEOPLES. YOU’LL GET WAY MORE DOLLARZ', 'Sometimes, @Amazon provides answers that just make your day... http://t.co/7gvrtprbiQ', '@peggyrossmanith @eazyrooster I’ll give you $5 a book &amp; I’ll sell them on Amazon and make the dollars. This seems like a great deal for me.', '@Furtherfrom Absolutely!  it is still in process on Amazon, Createspace.  Smashwords link is https://t.co/nBSQfOfqrc.  Focuses on her reign.', 'The best elastic bandages are made by @RavenWrap\\nSearch #RavenWrap on Amazon to get yours!!!\\n#TeamRavenWrap http://t.co/0JQB2tHtJR', 'Instead of ordering makeup online I just ordered protein pancake mixes off of amazon... Who am I?!', '@arepa_music @Sofia_Insomnia @amazonmusic TRIP MACHINE.. http://t.co/2HSl7jbGwY', '@eroncace97 ew....so not cool amazon. Not chill.', '@DreamEuroTrip the first episode/release could be \"The Glamazons from the Heat - Colombia &amp; The Philippines take it all!\"', 'Netflix or Amazon Prime Instant Streaming suggestions?', \"@LBennets What can't you buy on Amazon?\", \"Sources: Amazon Plans 'Prime For Business', Folding AmazonSupply Into Big… http://t.co/5Xovn5OEAt #Amazon • $AMZN http://t.co/RyM1HfNOmw\", '@cshughes  trying to order on my IPAD Kindle I will call Amazon that and see why my kindle says unable to!  I can have it mailed!', 'http://t.co/8GNyyc8BMW #AmazonWishList', 'Vertical Leadership Team Serv Project-Donating baby books for Success Teen Parents via @amazon.  http://t.co/OBB07ZqoGQ .  Thank you #RRISD!', '*phone buzzes*\\n-who could that be 😏\\n*notification that my Amazon package has been shipped* \\n\\nBest notification ever. 👌', 'Bishop M L. Sapp .new CD, You Shall Live available at Amazon, http://t.co/Td8L6nnBQy http://t.co/uYXRioeI3E Bestbuy http://t.co/KRzJCWGQMv', 'Time for more reading in The Page Turners Book 2. You should check out the 1st book on Amazon by @Kevin_T_Johns http://t.co/tTVrARHJJe', 'Did you see Video Clip 😢? What do you think\\nhttps://t.co/jDK4KLTOJI … …\\n#LaithAbuJoda\\n#AmazonGiveaway \\n#AmazonEcho \\n#Amazon', \"@unreal_tubby Audio-Technica is where it's at. This one was $250. There's a $100 version on Amazon but still decent &amp; has a preamp built in.\", \"Amazon, Keep, Etsy: it's so easy to binge shop and it's sad because there's so many cute things and not enough money. #firstworldproblems\", 'I just bought a phone case on Amazon 😅', 'Amazon on Holabird Ave just sent everyone home...cmon bmore motherfuckers are tryin to make money out here', 'Who is God?  Who is God now?  Kev and Barflurgle on Amazon.  Science fiction mayhem. http://t.co/Bg8cTxPcSL #books #IARTG #omgiag #fiction', 'Look what just hit UK Amazon @Hadrianasblog: http://t.co/50N7U2ijG7 #history #Scotland', '@wood_melt There Are Worse Things Than Dying\\nDamned Rite: MELT\\nby Janine-Langley Wood\\n5 STAR Reviews\\nAmazon\\nExcellent http://t.co/am2P5UWNtE', '@wickdplayground @PromoteHorror thank you for the wonderful read! Also on Amazon. Be glad to post elsewhere too.', '@Furtherfrom Mary Queen of the Scots just hit UK Amazon!  http://t.co/50N7U2ijG7.  Paperback will be ready by Thursday.', 'When you come home to a million Amazon packages 😍 #vinyljunkie #flume #altj #vancejoy #glassanimals… https://t.co/6LwwOQK5Jl', 'Ladies, you have not lived until you have walked to Times Square in high heels and a dress. Side effects: feeling like an Amazon Warrior', '@blam @amazon @wirecutter i love it..', '😘💜😍just got off like an hour long FaceTime chat with my bestie @ayshatheamazon  miss her so much', 'Might do like an #early show tonight where I re #moderator people on CB and look at #vinyl on @amazon', 'This will be a blast! #AmazonEcho http://t.co/KvTvl1MMQi', '@Subbable I migrated my subscriptions to @Patreon but I just got charged by Amazon for them on Subbable again. Sup?', '#Amazon channels are very proficient. #indieauthor presents http://t.co/xar1d2zoZf #amwriting #books for #readers', \"Album Naturally Me coming soon.. single so naturally out in seven days on itunes and Amazon and hard copies.. 2015''' my year\", \"@ayshatheamazon @aaash_bashhh @blaccxfemme @MillePeach don't make me cry\", '@charlieINTEL do I need to buy from GameStop to get Beta or can I buy from Amazon?', '@amazon everyone is giving to #Nepal. Let us help in this tragedy. #NepalEarthquake', 'Only 3 days left @ 99C\\nBut free w/ KU\\nCLICK HERE - http://t.co/0W8DN3qQrB\\n#IARTG #BOOKBOOST #AMAZONBESTSELLER http://t.co/bKwxJ9ivYM', 'Just bought the book on amazon... Internet &gt; physical activity', 'ONLY 5 days until Mending Hearts!\\nPRE - ORDER TODAY!\\nAmazon : http://t.co/Q37tAulpV1\\nB&amp;N : http://t.co/e7JEwzZwbn http://t.co/5DFSTGxk8x', 'I have an addiction to Amazon..😅', 'Only 3 days left @ 99C\\nBut free w/ KU\\nCLICK HERE - http://t.co/0W8DN3qQrB\\n#IARTG #BOOKBOOST #AMAZONBESTSELLER http://t.co/SacUcQXEk2', 'I have the most amazong clients. Feeling über loved! Thank you @lwchoate your are amazing… https://t.co/RUnbBsszpA', \"@Blackamazon NO THEY'RE NOT THEY ARE CRAZY VIOLENT PEOPLE! SO SAYETH BIG MEDIA. jesus fucking christ.\", \"@HelloGlamazon Girl stick with \\nsprint!! I'm trying to go back to \\nthem!\", '@HelloGlamazon I pay over 90 dollars a month just on my phone bill and only get 1GB. At least Sprint gives you unlimited everything for 80.', 'We received our @amazon echo today and It. Is. Awesome!!!! 😆', 'Co-ed Naked Philosophy Reply w/ #AmazonBasket for a free sample http://t.co/JeJYErhM54', '4 the katrillion time &gt;&gt;&gt;\"@Blackamazon: The said credible threat and then they made it happen\"', \"All I'm looking forward to this week is the fact that my packages from Amazon are scheduled to arrive within the week\", 'My love for Amazon is real. 💛', 'Only 3 days left @ 99C\\nBut free w/ KU\\nCLICK HERE - http://t.co/0W8DN3qQrB \\n#IARTG #BOOKBOOST #AMAZONBESTSELLER http://t.co/i8TxNmbHAj', 'SOS does anyone have an Amazon Instant Watch account?!', 'when your dad has amazon prime&gt;&gt;&gt;&gt;', '@StenoJenny @dickster1961 @elisamich0422 @AmazonProfessor @dominca1 @JaimeMurrayFan @TexasWench was that in your garden?', 'Only 3 days left @ 99C\\nBut free w/ KU\\nCLICK HERE - http://t.co/0W8DN3qQrB\\n#IARTG #BOOKBOOST #AMAZONBESTSELLER http://t.co/OlAI5ge7p2', \"@YesItsBryan I don't have many secrets. And if it makes my Amazon experience better, I'm all for it.\", 'Created my very first stop motion video today, cause amazon makes me happy but my wallet sad @ 😊😊😊😊 https://t.co/0aD8wTWNfU']\n"
     ]
    },
    {
     "ename": "KeyboardInterrupt",
     "evalue": "",
     "output_type": "error",
     "traceback": [
      "\u001b[1;31m---------------------------------------------------------------------------\u001b[0m",
      "\u001b[1;31mKeyboardInterrupt\u001b[0m                         Traceback (most recent call last)",
      "\u001b[1;32m<ipython-input-18-1d109242bcdc>\u001b[0m in \u001b[0;36m<module>\u001b[1;34m\u001b[0m\n\u001b[0;32m     21\u001b[0m             \u001b[1;32mtry\u001b[0m\u001b[1;33m:\u001b[0m\u001b[1;33m\u001b[0m\u001b[1;33m\u001b[0m\u001b[0m\n\u001b[0;32m     22\u001b[0m                 \u001b[0mdata\u001b[0m \u001b[1;33m=\u001b[0m \u001b[0mjson\u001b[0m\u001b[1;33m.\u001b[0m\u001b[0mloads\u001b[0m\u001b[1;33m(\u001b[0m\u001b[0mtweets\u001b[0m\u001b[1;33m)\u001b[0m\u001b[1;33m\u001b[0m\u001b[1;33m\u001b[0m\u001b[0m\n\u001b[1;32m---> 23\u001b[1;33m                 \u001b[1;32mif\u001b[0m\u001b[1;33m(\u001b[0m\u001b[0mcount\u001b[0m\u001b[1;33m==\u001b[0m\u001b[1;36m0\u001b[0m\u001b[1;33m)\u001b[0m\u001b[1;33m:\u001b[0m\u001b[1;33m\u001b[0m\u001b[1;33m\u001b[0m\u001b[0m\n\u001b[0m\u001b[0;32m     24\u001b[0m                     \u001b[0mprint\u001b[0m\u001b[1;33m(\u001b[0m\u001b[0mlist\u001b[0m\u001b[1;33m(\u001b[0m\u001b[0mdata\u001b[0m\u001b[1;33m)\u001b[0m\u001b[1;33m[\u001b[0m\u001b[1;36m0\u001b[0m\u001b[1;33m]\u001b[0m\u001b[1;33m)\u001b[0m\u001b[1;33m\u001b[0m\u001b[1;33m\u001b[0m\u001b[0m\n\u001b[0;32m     25\u001b[0m                     \u001b[0mprint\u001b[0m\u001b[1;33m(\u001b[0m\u001b[0mlist\u001b[0m\u001b[1;33m(\u001b[0m\u001b[0mdata\u001b[0m\u001b[1;33m.\u001b[0m\u001b[0mvalues\u001b[0m\u001b[1;33m(\u001b[0m\u001b[1;33m)\u001b[0m\u001b[1;33m)\u001b[0m\u001b[1;33m[\u001b[0m\u001b[1;36m0\u001b[0m\u001b[1;33m]\u001b[0m\u001b[1;33m)\u001b[0m\u001b[1;33m\u001b[0m\u001b[1;33m\u001b[0m\u001b[0m\n",
      "\u001b[1;31mKeyboardInterrupt\u001b[0m: "
     ]
    }
   ],
   "source": [
    "import json\n",
    "import os\n",
    "import glob\n",
    "path=\"C:/Users/Chang Ge/Desktop/482project/stockdata/data/*\"\n",
    "files = glob.glob(path)\n",
    "apple=['iphone','apple watch','ipad','steve jobs','apple inc']\n",
    "facebook=['facebook',' fb ']\n",
    "start_date_f=300\n",
    "start_date_ap=300\n",
    "start_date_g=300\n",
    "start_date_am=300\n",
    "google_result={}\n",
    "amazon_result={}\n",
    "facebook_result={}\n",
    "apple_result={}\n",
    "for filename in files:\n",
    "    with open(filename) as f:\n",
    "    #     data = json.load(f)\n",
    "        tweets = f.readline()\n",
    "        while (tweets):\n",
    "            tweets =f.readline()\n",
    "            if (tweets=='\\n' or tweets==''):\n",
    "                continue\n",
    "            try:\n",
    "                data = json.loads(tweets)\n",
    "                if ('created_at' in data.keys() and 'text' in data.keys()):\n",
    "                    text=data['text']\n",
    "                    date_str=data['created_at']\n",
    "                    date_list=date_str.split()\n",
    "                    date=date_list[1]+\" \"+date_list[2]+\" \"+date_list[-1]\n",
    "                if 'google' in text.lower():\n",
    "                    if(date in google_result):\n",
    "                        google_result[date].append(text)\n",
    "                    else:\n",
    "                        if(google_result):\n",
    "                            filename='google'+str(start_date_g)+'.json'\n",
    "                            print(filename)\n",
    "                            with open(filename, 'w') as fp:\n",
    "                                json.dump(google_result, fp)\n",
    "                            google_result={}\n",
    "                            start_date_g+=1\n",
    "                        google_result[date]=[text]\n",
    "\n",
    "                if 'amazon' in text.lower():\n",
    "                    if(date in amazon_result):\n",
    "                        amazon_result[date].append(text)\n",
    "                    else:\n",
    "                        if(amazon_result):\n",
    "                            filename='amazon'+str(start_date_am)+'.json'\n",
    "                            print(filename)\n",
    "                            with open(filename, 'w') as fp:\n",
    "                                json.dump(amazon_result, fp)\n",
    "                            amazon_result={}\n",
    "                            start_date_am+=1\n",
    "                        amazon_result[date]=[text]\n",
    "                            \n",
    "\n",
    "                if any(x in text.lower() for x in facebook):\n",
    "                    if(date in facebook_result):\n",
    "                        facebook_result[date].append(text)\n",
    "                    else:\n",
    "                        if(facebook_result):\n",
    "                            filename='facebook'+str(start_date_f)+'.json'\n",
    "                            print(filename)\n",
    "                            with open(filename, 'w') as fp:\n",
    "                                json.dump(facebook_result, fp)\n",
    "                            facebook_result={}\n",
    "                            start_date_f+=1\n",
    "                        facebook_result[date]=[text]\n",
    "                if any(x in text.lower() for x in apple):\n",
    "                    if(date in apple_result):\n",
    "                        apple_result[date].append(text)\n",
    "                    else:\n",
    "                        if(apple_result):\n",
    "                            filename='apple'+str(start_date_ap)+'.json'\n",
    "                            print(filename)\n",
    "                            with open(filename, 'w') as fp:\n",
    "                                json.dump(apple_result, fp)\n",
    "                            apple_result={}\n",
    "                            start_date_ap+=1\n",
    "                        apple_result[date]=[text]\n",
    "            except ValueError as e:\n",
    "                print(\"error1\")\n",
    "                continue\n",
    "            except AttributeError:\n",
    "                print(\"error2\")\n",
    "                continue\n",
    "            \n",
    "                \n",
    "\n",
    "    "
   ]
  },
  {
   "cell_type": "code",
   "execution_count": null,
   "metadata": {},
   "outputs": [],
   "source": []
  },
  {
   "cell_type": "code",
   "execution_count": null,
   "metadata": {},
   "outputs": [],
   "source": []
  }
 ],
 "metadata": {
  "kernelspec": {
   "display_name": "Python 3",
   "language": "python",
   "name": "python3"
  },
  "language_info": {
   "codemirror_mode": {
    "name": "ipython",
    "version": 3
   },
   "file_extension": ".py",
   "mimetype": "text/x-python",
   "name": "python",
   "nbconvert_exporter": "python",
   "pygments_lexer": "ipython3",
   "version": "3.7.1"
  }
 },
 "nbformat": 4,
 "nbformat_minor": 2
}
